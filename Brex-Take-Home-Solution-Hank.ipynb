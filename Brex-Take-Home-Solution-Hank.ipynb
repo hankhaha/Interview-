{
 "cells": [
  {
   "cell_type": "markdown",
   "metadata": {},
   "source": [
    "# Brex Take Home Assignment Instructions\n",
    "\n",
    "## Executive Summary\n",
    "\n",
    "Thank you for applying to Brex and congratulations on making it to the take-home assignment. Using this assignment, we will evaluate your ability to both comprehend a dataset and draw insights in a timely manner. We will also evaluate your attention to detail, and ability to find errors in the dataset.\n",
    "\n",
    "Please answer the following questions in the cells below. Add as many cells as needed, as well as any diagrams or charts you feel should be included as part of the answer. Don't feel obligated to use Python as the designated language, as you can use any language (R, SQL, C++, Java) or platform/notebook (Rstudio, PostgreSQL, Databricks, etc). Just copy the markdown and fill in your code, as we need to review both your code and the answer.\n",
    "\n",
    "Please submit your answers to questions 1-4 as the file submission.csv in the same format as `submission_example.csv` and `financial_balances_submission.csv`. This is critical in your grade as files with wrong name (e.g. \"submission_test.csv\") or wrong format (e.g. \"1.a\",\"aaa\") will result in point reduction. Also, please submit your `.ipynb` notebook or any of the accompanying code (Java, R, SQL, etc) you wrote to answer the questions. In short, you MUST submit the following:\n",
    "\n",
    "  * submission.csv\n",
    "  * any notebook equivalent with your code\n",
    "\n",
    "Make sure that you go through the questions in ascending order (1, 2, 3, 4), as the subsequent questions build on top of the previous questions. The maximum time limit is `2 hours and 30 minutes`. Please adhere to the time limit and refer to the recommended time usage on each question to gauge the effort required to answer.\n",
    "\n",
    "## Background\n",
    "The main goal for this case is for us to understand your ability to understand the data provided and draw critical insights from the dataset. There are four tables for you to work with: \n",
    "1. Customer Accounts (id, name): a list of our customers with their names redacted and a unique identifier\n",
    "2. Financial Accounts (id, customer_account_id, name): a list of bank accounts belonging to our customers\n",
    "    * Customer_account_id: The ID of the customer that owns this bank account from Customer Accounts (table 1)\n",
    "    * Id, name: Unique financial account identifier and redacted name of the account\n",
    "3. Financial Balances (id, account_id, amount, accrual_date): a reading of the beginning-of-day (BoD) balance for each financial account\n",
    "    * Account_id: the ID of the financial account (table 2) that the balance belongs to\n",
    "    * Amount and accrual_date: The balance (in dollars) and date this reading was taken\n",
    "4. Financial Transactions (id, account_id, amount, accrual_date): list of transactions incoming and outgoing for each financial account\n",
    "    * Account_id: the ID of the financial account (table 2) that the transaction belongs to\n",
    "    * Amount and accrual_date: the amount (in dollars) of each transaction and the date when the transaction occurred. Negative transactions are money leaving the bank account and positive transactions are money coming in.\n",
    "\n",
    "Using these accounts, please answer the following questions in the sample jupyter notebook provided. Scores for questions 1-4 will be graded based on your submitted csv. Please read through the submission file format in `submission_example.csv` & `financial_balances_submission.csv` and include the finalized submissions in  `submission.csv` & `financial_balances_submission.csv`.\n",
    "\n",
    "### Feel free to use any many cells as you need to answer the question and please keep in mind that someone will be reading your code, so be thoughtful to use comments and organize your code."
   ]
  },
  {
   "cell_type": "markdown",
   "metadata": {},
   "source": [
    "## Notice that scores for questions 1-4 will be graded based on your submitted csv files. Please read through the submission file format and include the finalized submissions."
   ]
  },
  {
   "cell_type": "markdown",
   "metadata": {},
   "source": [
    "## Warm up\n",
    "Recommended time usage: ~10 minutes\n",
    "\n",
    "Perform a quick Exploratory Dataset Analysis (EDA) on the dataset provided. Draw some insights on the raw data. ( 0 points )\n"
   ]
  },
  {
   "cell_type": "code",
   "execution_count": 86,
   "metadata": {},
   "outputs": [],
   "source": [
    "# import libraries\n",
    "import numpy as np\n",
    "import pandas as pd\n",
    "import matplotlib.pyplot as plt\n",
    "import seaborn as sns\n",
    "import statistics\n",
    "import os"
   ]
  },
  {
   "cell_type": "code",
   "execution_count": 4,
   "metadata": {},
   "outputs": [
    {
     "data": {
      "text/plain": [
       "'/home/jupyter/Brex Data Challenge'"
      ]
     },
     "execution_count": 4,
     "metadata": {},
     "output_type": "execute_result"
    }
   ],
   "source": [
    "os.getcwd()"
   ]
  },
  {
   "cell_type": "code",
   "execution_count": 46,
   "metadata": {},
   "outputs": [
    {
     "data": {
      "text/plain": [
       "['financial_accounts.csv',\n",
       " 'customer_accounts.csv',\n",
       " 'financial_balances_submission.csv',\n",
       " 'submission_example.csv',\n",
       " 'Brex Take Home Instructions.ipynb',\n",
       " 'Brex Take Home Instructions.pdf',\n",
       " 'financial_transactions.csv',\n",
       " 'financial_balances.csv',\n",
       " 'submission.csv',\n",
       " '.ipynb_checkpoints']"
      ]
     },
     "execution_count": 46,
     "metadata": {},
     "output_type": "execute_result"
    }
   ],
   "source": [
    "# list all of files in directory\n",
    "files = os.listdir()\n",
    "\n",
    "[f for f in files]"
   ]
  },
  {
   "cell_type": "code",
   "execution_count": 6,
   "metadata": {},
   "outputs": [],
   "source": [
    "# import data \n",
    "customer_accounts = pd.read_csv('./customer_accounts.csv')\n",
    "financial_accounts = pd.read_csv('./financial_accounts.csv')\n",
    "financial_transactions = pd.read_csv('./financial_transactions.csv')\n",
    "financial_balances = pd.read_csv('./financial_balances.csv')"
   ]
  },
  {
   "cell_type": "code",
   "execution_count": 7,
   "metadata": {},
   "outputs": [
    {
     "name": "stdout",
     "output_type": "stream",
     "text": [
      "    id         name\n",
      "0  a_0  a_0_company\n",
      "1  a_1  a_1_company\n",
      "2  a_2  a_2_company\n",
      "3  a_3  a_3_company\n",
      "4  a_4  a_4_company  \n",
      " (150, 2)\n",
      "      id customer_account_id               name\n",
      "0  a_0_0                 a_0  a_0_0_fin_account\n",
      "1  a_0_1                 a_0  a_0_1_fin_account\n",
      "2  a_0_2                 a_0  a_0_2_fin_account\n",
      "3  a_0_3                 a_0  a_0_3_fin_account\n",
      "4  a_0_4                 a_0  a_0_4_fin_account  \n",
      " (590, 3)\n",
      "  account_id accrual_date  amount       id\n",
      "0      a_0_0   2019-12-24  -248.0  a_0_0_0\n",
      "1      a_0_0   2019-12-25  -859.0  a_0_0_1\n",
      "2      a_0_0   2019-12-26  -776.0  a_0_0_2\n",
      "3      a_0_0   2019-12-27  -605.0  a_0_0_3\n",
      "4      a_0_0   2019-12-28   -33.0  a_0_0_4  \n",
      " (222723, 4)\n",
      "            id account_id accrual_date     amount\n",
      "0  a_0_0_bal_0      a_0_0   2019-12-24  9950997.0\n",
      "1  a_0_0_bal_1      a_0_0   2019-12-25  9950749.0\n",
      "2  a_0_0_bal_2      a_0_0   2019-12-26  9949890.0\n",
      "3  a_0_0_bal_3      a_0_0   2019-12-27  9949114.0\n",
      "4  a_0_0_bal_4      a_0_0   2019-12-28  9948509.0  \n",
      " (81149, 4)\n"
     ]
    }
   ],
   "source": [
    "print(customer_accounts.head(),' \\n', customer_accounts.shape)\n",
    "print(financial_accounts.head(),' \\n', financial_accounts.shape)\n",
    "print(financial_transactions.head(),' \\n', financial_transactions.shape)\n",
    "print(financial_balances.head(),' \\n', financial_balances.shape)"
   ]
  },
  {
   "cell_type": "code",
   "execution_count": 47,
   "metadata": {},
   "outputs": [
    {
     "name": "stdout",
     "output_type": "stream",
     "text": [
      "id      0\n",
      "name    0\n",
      "dtype: int64\n",
      "id                     0\n",
      "customer_account_id    0\n",
      "name                   0\n",
      "dtype: int64\n",
      "account_id      0\n",
      "accrual_date    0\n",
      "amount          0\n",
      "id              0\n",
      "dtype: int64\n",
      "id               0\n",
      "account_id       0\n",
      "accrual_date     0\n",
      "amount          90\n",
      "dtype: int64\n"
     ]
    }
   ],
   "source": [
    "# check missing value\n",
    "# As we can see only one column contains missing value which is amount in financial_balances.csv\n",
    "# We will be handling missing values later and coming up solution to fill in these missing values\n",
    "print(customer_accounts.isnull().sum())\n",
    "print(financial_accounts.isnull().sum())\n",
    "print(financial_transactions.isnull().sum())\n",
    "print(financial_balances.isnull().sum())"
   ]
  },
  {
   "cell_type": "code",
   "execution_count": 8,
   "metadata": {},
   "outputs": [],
   "source": [
    "# combine the data\n",
    "# Step1: combine customer_accounts & financial_accounts table\n",
    "customer_financial_accounts = pd.merge(customer_accounts.rename(columns={'id':'customer_account_id','name':'customer_name'}),\n",
    "                                       financial_accounts.rename(columns={'id':'account_id','name':'account_name'}),\n",
    "                                       how='left', \n",
    "                                       on='customer_account_id')\n",
    "\n",
    "# Step2: combine customer_financial_accounts & financial_transactions\n",
    "customer_financial_accounts_transactions = pd.merge(financial_transactions.rename(columns={'id':'transaction_id', 'amount':'transaction_amount'}), \n",
    "                                                    customer_financial_accounts, \n",
    "                                                    how='left',\n",
    "                                                    on='account_id')\n",
    "# Step3: Join balance and transaction table \n",
    "df_transactions_balances = pd.merge(customer_financial_accounts_transactions,\n",
    "                                    financial_balances.rename(columns={'id':'balance_id', 'amount':'balance_amount'}),\n",
    "                                    how='left',\n",
    "                                    on=['account_id', 'accrual_date' ])"
   ]
  },
  {
   "cell_type": "code",
   "execution_count": 9,
   "metadata": {},
   "outputs": [
    {
     "data": {
      "text/html": [
       "<div>\n",
       "<style scoped>\n",
       "    .dataframe tbody tr th:only-of-type {\n",
       "        vertical-align: middle;\n",
       "    }\n",
       "\n",
       "    .dataframe tbody tr th {\n",
       "        vertical-align: top;\n",
       "    }\n",
       "\n",
       "    .dataframe thead th {\n",
       "        text-align: right;\n",
       "    }\n",
       "</style>\n",
       "<table border=\"1\" class=\"dataframe\">\n",
       "  <thead>\n",
       "    <tr style=\"text-align: right;\">\n",
       "      <th></th>\n",
       "      <th>account_id</th>\n",
       "      <th>accrual_date</th>\n",
       "      <th>transaction_amount</th>\n",
       "      <th>transaction_id</th>\n",
       "      <th>customer_account_id</th>\n",
       "      <th>customer_name</th>\n",
       "      <th>account_name</th>\n",
       "      <th>balance_id</th>\n",
       "      <th>balance_amount</th>\n",
       "    </tr>\n",
       "  </thead>\n",
       "  <tbody>\n",
       "    <tr>\n",
       "      <th>0</th>\n",
       "      <td>a_0_0</td>\n",
       "      <td>2019-12-24</td>\n",
       "      <td>-248.0</td>\n",
       "      <td>a_0_0_0</td>\n",
       "      <td>a_0</td>\n",
       "      <td>a_0_company</td>\n",
       "      <td>a_0_0_fin_account</td>\n",
       "      <td>a_0_0_bal_0</td>\n",
       "      <td>9950997.0</td>\n",
       "    </tr>\n",
       "    <tr>\n",
       "      <th>1</th>\n",
       "      <td>a_0_0</td>\n",
       "      <td>2019-12-25</td>\n",
       "      <td>-859.0</td>\n",
       "      <td>a_0_0_1</td>\n",
       "      <td>a_0</td>\n",
       "      <td>a_0_company</td>\n",
       "      <td>a_0_0_fin_account</td>\n",
       "      <td>a_0_0_bal_1</td>\n",
       "      <td>9950749.0</td>\n",
       "    </tr>\n",
       "    <tr>\n",
       "      <th>2</th>\n",
       "      <td>a_0_0</td>\n",
       "      <td>2019-12-26</td>\n",
       "      <td>-776.0</td>\n",
       "      <td>a_0_0_2</td>\n",
       "      <td>a_0</td>\n",
       "      <td>a_0_company</td>\n",
       "      <td>a_0_0_fin_account</td>\n",
       "      <td>a_0_0_bal_2</td>\n",
       "      <td>9949890.0</td>\n",
       "    </tr>\n",
       "    <tr>\n",
       "      <th>3</th>\n",
       "      <td>a_0_0</td>\n",
       "      <td>2019-12-27</td>\n",
       "      <td>-605.0</td>\n",
       "      <td>a_0_0_3</td>\n",
       "      <td>a_0</td>\n",
       "      <td>a_0_company</td>\n",
       "      <td>a_0_0_fin_account</td>\n",
       "      <td>a_0_0_bal_3</td>\n",
       "      <td>9949114.0</td>\n",
       "    </tr>\n",
       "    <tr>\n",
       "      <th>4</th>\n",
       "      <td>a_0_0</td>\n",
       "      <td>2019-12-28</td>\n",
       "      <td>-33.0</td>\n",
       "      <td>a_0_0_4</td>\n",
       "      <td>a_0</td>\n",
       "      <td>a_0_company</td>\n",
       "      <td>a_0_0_fin_account</td>\n",
       "      <td>a_0_0_bal_4</td>\n",
       "      <td>9948509.0</td>\n",
       "    </tr>\n",
       "  </tbody>\n",
       "</table>\n",
       "</div>"
      ],
      "text/plain": [
       "  account_id accrual_date  transaction_amount transaction_id  \\\n",
       "0      a_0_0   2019-12-24              -248.0        a_0_0_0   \n",
       "1      a_0_0   2019-12-25              -859.0        a_0_0_1   \n",
       "2      a_0_0   2019-12-26              -776.0        a_0_0_2   \n",
       "3      a_0_0   2019-12-27              -605.0        a_0_0_3   \n",
       "4      a_0_0   2019-12-28               -33.0        a_0_0_4   \n",
       "\n",
       "  customer_account_id customer_name       account_name   balance_id  \\\n",
       "0                 a_0   a_0_company  a_0_0_fin_account  a_0_0_bal_0   \n",
       "1                 a_0   a_0_company  a_0_0_fin_account  a_0_0_bal_1   \n",
       "2                 a_0   a_0_company  a_0_0_fin_account  a_0_0_bal_2   \n",
       "3                 a_0   a_0_company  a_0_0_fin_account  a_0_0_bal_3   \n",
       "4                 a_0   a_0_company  a_0_0_fin_account  a_0_0_bal_4   \n",
       "\n",
       "   balance_amount  \n",
       "0       9950997.0  \n",
       "1       9950749.0  \n",
       "2       9949890.0  \n",
       "3       9949114.0  \n",
       "4       9948509.0  "
      ]
     },
     "execution_count": 9,
     "metadata": {},
     "output_type": "execute_result"
    }
   ],
   "source": [
    "df_transactions_balances.head()"
   ]
  },
  {
   "cell_type": "code",
   "execution_count": 57,
   "metadata": {},
   "outputs": [
    {
     "data": {
      "text/html": [
       "<div>\n",
       "<style scoped>\n",
       "    .dataframe tbody tr th:only-of-type {\n",
       "        vertical-align: middle;\n",
       "    }\n",
       "\n",
       "    .dataframe tbody tr th {\n",
       "        vertical-align: top;\n",
       "    }\n",
       "\n",
       "    .dataframe thead th {\n",
       "        text-align: right;\n",
       "    }\n",
       "</style>\n",
       "<table border=\"1\" class=\"dataframe\">\n",
       "  <thead>\n",
       "    <tr style=\"text-align: right;\">\n",
       "      <th></th>\n",
       "      <th>account_id</th>\n",
       "      <th>accrual_date</th>\n",
       "      <th>transaction_amount</th>\n",
       "      <th>transaction_id</th>\n",
       "      <th>customer_account_id</th>\n",
       "      <th>customer_name</th>\n",
       "      <th>account_name</th>\n",
       "      <th>balance_id</th>\n",
       "      <th>balance_amount</th>\n",
       "    </tr>\n",
       "  </thead>\n",
       "  <tbody>\n",
       "    <tr>\n",
       "      <th>2909</th>\n",
       "      <td>a_1_0</td>\n",
       "      <td>2020-02-28</td>\n",
       "      <td>-691.0</td>\n",
       "      <td>a_1_0_0</td>\n",
       "      <td>a_1</td>\n",
       "      <td>a_1_company</td>\n",
       "      <td>a_1_0_fin_account</td>\n",
       "      <td>NaN</td>\n",
       "      <td>NaN</td>\n",
       "    </tr>\n",
       "    <tr>\n",
       "      <th>2910</th>\n",
       "      <td>a_1_0</td>\n",
       "      <td>2020-02-29</td>\n",
       "      <td>-820.0</td>\n",
       "      <td>a_1_0_1</td>\n",
       "      <td>a_1</td>\n",
       "      <td>a_1_company</td>\n",
       "      <td>a_1_0_fin_account</td>\n",
       "      <td>NaN</td>\n",
       "      <td>NaN</td>\n",
       "    </tr>\n",
       "    <tr>\n",
       "      <th>2911</th>\n",
       "      <td>a_1_0</td>\n",
       "      <td>2020-03-01</td>\n",
       "      <td>-624.0</td>\n",
       "      <td>a_1_0_2</td>\n",
       "      <td>a_1</td>\n",
       "      <td>a_1_company</td>\n",
       "      <td>a_1_0_fin_account</td>\n",
       "      <td>NaN</td>\n",
       "      <td>NaN</td>\n",
       "    </tr>\n",
       "    <tr>\n",
       "      <th>2912</th>\n",
       "      <td>a_1_0</td>\n",
       "      <td>2020-03-02</td>\n",
       "      <td>-972.0</td>\n",
       "      <td>a_1_0_3</td>\n",
       "      <td>a_1</td>\n",
       "      <td>a_1_company</td>\n",
       "      <td>a_1_0_fin_account</td>\n",
       "      <td>NaN</td>\n",
       "      <td>NaN</td>\n",
       "    </tr>\n",
       "    <tr>\n",
       "      <th>2913</th>\n",
       "      <td>a_1_0</td>\n",
       "      <td>2020-03-03</td>\n",
       "      <td>-510.0</td>\n",
       "      <td>a_1_0_4</td>\n",
       "      <td>a_1</td>\n",
       "      <td>a_1_company</td>\n",
       "      <td>a_1_0_fin_account</td>\n",
       "      <td>NaN</td>\n",
       "      <td>NaN</td>\n",
       "    </tr>\n",
       "  </tbody>\n",
       "</table>\n",
       "</div>"
      ],
      "text/plain": [
       "     account_id accrual_date  transaction_amount transaction_id  \\\n",
       "2909      a_1_0   2020-02-28              -691.0        a_1_0_0   \n",
       "2910      a_1_0   2020-02-29              -820.0        a_1_0_1   \n",
       "2911      a_1_0   2020-03-01              -624.0        a_1_0_2   \n",
       "2912      a_1_0   2020-03-02              -972.0        a_1_0_3   \n",
       "2913      a_1_0   2020-03-03              -510.0        a_1_0_4   \n",
       "\n",
       "     customer_account_id customer_name       account_name balance_id  \\\n",
       "2909                 a_1   a_1_company  a_1_0_fin_account        NaN   \n",
       "2910                 a_1   a_1_company  a_1_0_fin_account        NaN   \n",
       "2911                 a_1   a_1_company  a_1_0_fin_account        NaN   \n",
       "2912                 a_1   a_1_company  a_1_0_fin_account        NaN   \n",
       "2913                 a_1   a_1_company  a_1_0_fin_account        NaN   \n",
       "\n",
       "      balance_amount  \n",
       "2909             NaN  \n",
       "2910             NaN  \n",
       "2911             NaN  \n",
       "2912             NaN  \n",
       "2913             NaN  "
      ]
     },
     "execution_count": 57,
     "metadata": {},
     "output_type": "execute_result"
    }
   ],
   "source": [
    "# check if all the balance_id is coming through after blending the data\n",
    "df_transactions_balances.loc[df_transactions_balances.balance_id.isnull()].head(5)"
   ]
  },
  {
   "cell_type": "code",
   "execution_count": 60,
   "metadata": {},
   "outputs": [
    {
     "data": {
      "text/html": [
       "<div>\n",
       "<style scoped>\n",
       "    .dataframe tbody tr th:only-of-type {\n",
       "        vertical-align: middle;\n",
       "    }\n",
       "\n",
       "    .dataframe tbody tr th {\n",
       "        vertical-align: top;\n",
       "    }\n",
       "\n",
       "    .dataframe thead th {\n",
       "        text-align: right;\n",
       "    }\n",
       "</style>\n",
       "<table border=\"1\" class=\"dataframe\">\n",
       "  <thead>\n",
       "    <tr style=\"text-align: right;\">\n",
       "      <th></th>\n",
       "      <th>id</th>\n",
       "      <th>account_id</th>\n",
       "      <th>accrual_date</th>\n",
       "      <th>amount</th>\n",
       "    </tr>\n",
       "  </thead>\n",
       "  <tbody>\n",
       "  </tbody>\n",
       "</table>\n",
       "</div>"
      ],
      "text/plain": [
       "Empty DataFrame\n",
       "Columns: [id, account_id, accrual_date, amount]\n",
       "Index: []"
      ]
     },
     "execution_count": 60,
     "metadata": {},
     "output_type": "execute_result"
    }
   ],
   "source": [
    "# there seems to be missing daily balance for some account_id on a certain dates \n",
    "# which led to balance_id and balance_amount to be NULLs\n",
    "# for instance account_id: a_1_0 on accrual_date of '2020-02-28'\n",
    "# we will deal with it in a moment\n",
    "financial_balances.loc[(financial_balances.account_id == 'a_1_0') & (financial_balances.accrual_date == '2020-02-28')]"
   ]
  },
  {
   "cell_type": "markdown",
   "metadata": {},
   "source": [
    "## Questions\n",
    "\n",
    "For the following questions:\n",
    "- `Customer A` = \"a_53\"\n",
    "- `Customer A Account 1` = \"a_53_1\" \n",
    "- `Customer A Balance Date` = \"2020-07-04\n",
    "- `Customer B` = \"a_32\" \n",
    "- `Customer B Balance Date` = \"2020-08-12\""
   ]
  },
  {
   "cell_type": "code",
   "execution_count": 61,
   "metadata": {},
   "outputs": [],
   "source": [
    "# recommended to run\n",
    "customer_a = 'a_53'\n",
    "customer_a_account_1 = 'a_53_1'\n",
    "customer_a_balance_date = '2020-07-04'\n",
    "customer_b = 'a_32'\n",
    "customer_b_balance_date= '2020-08-12'"
   ]
  },
  {
   "cell_type": "markdown",
   "metadata": {},
   "source": [
    "### Question 1.\n",
    "Recommended time usage: ~10 minutes\n",
    "\n",
    "(a) What is the average historic daily balance (beginning-of-day) for `Customer A Account 1`? Round to the nearest integer. ( 1 Point )\n",
    "\n",
    "(b) What is `Customer A`'s global balance (sum of all beginning-of-day balances across all financial accounts associated with `Customer A`) on `Customer A Balance Date`? Round to the nearest integer. ( 1 Point )\n"
   ]
  },
  {
   "cell_type": "code",
   "execution_count": 65,
   "metadata": {},
   "outputs": [
    {
     "name": "stdout",
     "output_type": "stream",
     "text": [
      "The avergae historic daily balance for Customer A Account 1 is 10008868.0.\n"
     ]
    }
   ],
   "source": [
    "# use customer_a and/or customer_a_account_1\n",
    "# (a) Average historical daily balance for customer A account 1\n",
    "avg_balance = df_transactions_balances.loc[(df_transactions_balances.customer_account_id == customer_a) & \n",
    "                             (df_transactions_balances.account_id == customer_a_account_1),\n",
    "                             'balance_amount'].mean().round()\n",
    "\n",
    "print('The avergae historic daily balance for Customer A Account 1 is {}.'.format(avg_balance))"
   ]
  },
  {
   "cell_type": "code",
   "execution_count": 64,
   "metadata": {},
   "outputs": [
    {
     "data": {
      "text/plain": [
       "10008868.293103449"
      ]
     },
     "execution_count": 64,
     "metadata": {},
     "output_type": "execute_result"
    }
   ],
   "source": [
    "# double check the result with the original table\n",
    "financial_balances.loc[financial_balances.account_id == customer_a_account_1, 'amount'].mean()"
   ]
  },
  {
   "cell_type": "code",
   "execution_count": 15,
   "metadata": {},
   "outputs": [
    {
     "name": "stdout",
     "output_type": "stream",
     "text": [
      "Customer A global balance on 2020-07-04 is 39806277.0\n"
     ]
    }
   ],
   "source": [
    "# (b) Customer A's global balnce\n",
    "sum_of_global_balance = df_transactions_balances.loc[(df_transactions_balances.customer_account_id == customer_a) &\n",
    "                             (df_transactions_balances.accrual_date == customer_a_balance_date),\n",
    "                             'balance_amount'].unique().sum()\n",
    "print('Customer A global balance on {0} is {1}'.format(customer_a_balance_date, sum_of_global_balance))"
   ]
  },
  {
   "cell_type": "code",
   "execution_count": 16,
   "metadata": {},
   "outputs": [
    {
     "data": {
      "text/html": [
       "<div>\n",
       "<style scoped>\n",
       "    .dataframe tbody tr th:only-of-type {\n",
       "        vertical-align: middle;\n",
       "    }\n",
       "\n",
       "    .dataframe tbody tr th {\n",
       "        vertical-align: top;\n",
       "    }\n",
       "\n",
       "    .dataframe thead th {\n",
       "        text-align: right;\n",
       "    }\n",
       "</style>\n",
       "<table border=\"1\" class=\"dataframe\">\n",
       "  <thead>\n",
       "    <tr style=\"text-align: right;\">\n",
       "      <th></th>\n",
       "      <th>account_id</th>\n",
       "      <th>accrual_date</th>\n",
       "      <th>transaction_amount</th>\n",
       "      <th>transaction_id</th>\n",
       "      <th>customer_account_id</th>\n",
       "      <th>customer_name</th>\n",
       "      <th>account_name</th>\n",
       "      <th>balance_id</th>\n",
       "      <th>balance_amount</th>\n",
       "    </tr>\n",
       "  </thead>\n",
       "  <tbody>\n",
       "    <tr>\n",
       "      <th>82158</th>\n",
       "      <td>a_53_0</td>\n",
       "      <td>2020-07-04</td>\n",
       "      <td>-757.0</td>\n",
       "      <td>a_53_0_864</td>\n",
       "      <td>a_53</td>\n",
       "      <td>a_53_company</td>\n",
       "      <td>a_53_0_fin_account</td>\n",
       "      <td>a_53_0_bal_57478</td>\n",
       "      <td>9583746.0</td>\n",
       "    </tr>\n",
       "    <tr>\n",
       "      <th>82159</th>\n",
       "      <td>a_53_0</td>\n",
       "      <td>2020-07-04</td>\n",
       "      <td>-498.0</td>\n",
       "      <td>a_53_0_865</td>\n",
       "      <td>a_53</td>\n",
       "      <td>a_53_company</td>\n",
       "      <td>a_53_0_fin_account</td>\n",
       "      <td>a_53_0_bal_57478</td>\n",
       "      <td>9583746.0</td>\n",
       "    </tr>\n",
       "    <tr>\n",
       "      <th>82160</th>\n",
       "      <td>a_53_0</td>\n",
       "      <td>2020-07-04</td>\n",
       "      <td>-640.0</td>\n",
       "      <td>a_53_0_866</td>\n",
       "      <td>a_53</td>\n",
       "      <td>a_53_company</td>\n",
       "      <td>a_53_0_fin_account</td>\n",
       "      <td>a_53_0_bal_57478</td>\n",
       "      <td>9583746.0</td>\n",
       "    </tr>\n",
       "    <tr>\n",
       "      <th>82161</th>\n",
       "      <td>a_53_0</td>\n",
       "      <td>2020-07-04</td>\n",
       "      <td>-582.0</td>\n",
       "      <td>a_53_0_867</td>\n",
       "      <td>a_53</td>\n",
       "      <td>a_53_company</td>\n",
       "      <td>a_53_0_fin_account</td>\n",
       "      <td>a_53_0_bal_57478</td>\n",
       "      <td>9583746.0</td>\n",
       "    </tr>\n",
       "    <tr>\n",
       "      <th>82162</th>\n",
       "      <td>a_53_0</td>\n",
       "      <td>2020-07-04</td>\n",
       "      <td>-372.0</td>\n",
       "      <td>a_53_0_868</td>\n",
       "      <td>a_53</td>\n",
       "      <td>a_53_company</td>\n",
       "      <td>a_53_0_fin_account</td>\n",
       "      <td>a_53_0_bal_57478</td>\n",
       "      <td>9583746.0</td>\n",
       "    </tr>\n",
       "    <tr>\n",
       "      <th>82163</th>\n",
       "      <td>a_53_0</td>\n",
       "      <td>2020-07-04</td>\n",
       "      <td>-1043.0</td>\n",
       "      <td>a_53_0_869</td>\n",
       "      <td>a_53</td>\n",
       "      <td>a_53_company</td>\n",
       "      <td>a_53_0_fin_account</td>\n",
       "      <td>a_53_0_bal_57478</td>\n",
       "      <td>9583746.0</td>\n",
       "    </tr>\n",
       "    <tr>\n",
       "      <th>82164</th>\n",
       "      <td>a_53_0</td>\n",
       "      <td>2020-07-04</td>\n",
       "      <td>-193.0</td>\n",
       "      <td>a_53_0_870</td>\n",
       "      <td>a_53</td>\n",
       "      <td>a_53_company</td>\n",
       "      <td>a_53_0_fin_account</td>\n",
       "      <td>a_53_0_bal_57478</td>\n",
       "      <td>9583746.0</td>\n",
       "    </tr>\n",
       "    <tr>\n",
       "      <th>82165</th>\n",
       "      <td>a_53_0</td>\n",
       "      <td>2020-07-04</td>\n",
       "      <td>-304.0</td>\n",
       "      <td>a_53_0_871</td>\n",
       "      <td>a_53</td>\n",
       "      <td>a_53_company</td>\n",
       "      <td>a_53_0_fin_account</td>\n",
       "      <td>a_53_0_bal_57478</td>\n",
       "      <td>9583746.0</td>\n",
       "    </tr>\n",
       "    <tr>\n",
       "      <th>82687</th>\n",
       "      <td>a_53_1</td>\n",
       "      <td>2020-07-04</td>\n",
       "      <td>-731.0</td>\n",
       "      <td>a_53_1_56</td>\n",
       "      <td>a_53</td>\n",
       "      <td>a_53_company</td>\n",
       "      <td>a_53_1_fin_account</td>\n",
       "      <td>a_53_1_bal_57594</td>\n",
       "      <td>10009497.0</td>\n",
       "    </tr>\n",
       "    <tr>\n",
       "      <th>82857</th>\n",
       "      <td>a_53_2</td>\n",
       "      <td>2020-07-04</td>\n",
       "      <td>-1177.0</td>\n",
       "      <td>a_53_2_110</td>\n",
       "      <td>a_53</td>\n",
       "      <td>a_53_company</td>\n",
       "      <td>a_53_2_fin_account</td>\n",
       "      <td>a_53_2_bal_57764</td>\n",
       "      <td>10022075.0</td>\n",
       "    </tr>\n",
       "    <tr>\n",
       "      <th>82976</th>\n",
       "      <td>a_53_3</td>\n",
       "      <td>2020-07-04</td>\n",
       "      <td>-185.0</td>\n",
       "      <td>a_53_3_59</td>\n",
       "      <td>a_53</td>\n",
       "      <td>a_53_company</td>\n",
       "      <td>a_53_3_fin_account</td>\n",
       "      <td>a_53_3_bal_57883</td>\n",
       "      <td>10190959.0</td>\n",
       "    </tr>\n",
       "  </tbody>\n",
       "</table>\n",
       "</div>"
      ],
      "text/plain": [
       "      account_id accrual_date  transaction_amount transaction_id  \\\n",
       "82158     a_53_0   2020-07-04              -757.0     a_53_0_864   \n",
       "82159     a_53_0   2020-07-04              -498.0     a_53_0_865   \n",
       "82160     a_53_0   2020-07-04              -640.0     a_53_0_866   \n",
       "82161     a_53_0   2020-07-04              -582.0     a_53_0_867   \n",
       "82162     a_53_0   2020-07-04              -372.0     a_53_0_868   \n",
       "82163     a_53_0   2020-07-04             -1043.0     a_53_0_869   \n",
       "82164     a_53_0   2020-07-04              -193.0     a_53_0_870   \n",
       "82165     a_53_0   2020-07-04              -304.0     a_53_0_871   \n",
       "82687     a_53_1   2020-07-04              -731.0      a_53_1_56   \n",
       "82857     a_53_2   2020-07-04             -1177.0     a_53_2_110   \n",
       "82976     a_53_3   2020-07-04              -185.0      a_53_3_59   \n",
       "\n",
       "      customer_account_id customer_name        account_name        balance_id  \\\n",
       "82158                a_53  a_53_company  a_53_0_fin_account  a_53_0_bal_57478   \n",
       "82159                a_53  a_53_company  a_53_0_fin_account  a_53_0_bal_57478   \n",
       "82160                a_53  a_53_company  a_53_0_fin_account  a_53_0_bal_57478   \n",
       "82161                a_53  a_53_company  a_53_0_fin_account  a_53_0_bal_57478   \n",
       "82162                a_53  a_53_company  a_53_0_fin_account  a_53_0_bal_57478   \n",
       "82163                a_53  a_53_company  a_53_0_fin_account  a_53_0_bal_57478   \n",
       "82164                a_53  a_53_company  a_53_0_fin_account  a_53_0_bal_57478   \n",
       "82165                a_53  a_53_company  a_53_0_fin_account  a_53_0_bal_57478   \n",
       "82687                a_53  a_53_company  a_53_1_fin_account  a_53_1_bal_57594   \n",
       "82857                a_53  a_53_company  a_53_2_fin_account  a_53_2_bal_57764   \n",
       "82976                a_53  a_53_company  a_53_3_fin_account  a_53_3_bal_57883   \n",
       "\n",
       "       balance_amount  \n",
       "82158       9583746.0  \n",
       "82159       9583746.0  \n",
       "82160       9583746.0  \n",
       "82161       9583746.0  \n",
       "82162       9583746.0  \n",
       "82163       9583746.0  \n",
       "82164       9583746.0  \n",
       "82165       9583746.0  \n",
       "82687      10009497.0  \n",
       "82857      10022075.0  \n",
       "82976      10190959.0  "
      ]
     },
     "execution_count": 16,
     "metadata": {},
     "output_type": "execute_result"
    }
   ],
   "source": [
    "df_transactions_balances.loc[(df_transactions_balances.customer_account_id == customer_a) &\n",
    "                             (df_transactions_balances.accrual_date == customer_a_balance_date)]"
   ]
  },
  {
   "cell_type": "code",
   "execution_count": 17,
   "metadata": {},
   "outputs": [
    {
     "data": {
      "text/html": [
       "<div>\n",
       "<style scoped>\n",
       "    .dataframe tbody tr th:only-of-type {\n",
       "        vertical-align: middle;\n",
       "    }\n",
       "\n",
       "    .dataframe tbody tr th {\n",
       "        vertical-align: top;\n",
       "    }\n",
       "\n",
       "    .dataframe thead th {\n",
       "        text-align: right;\n",
       "    }\n",
       "</style>\n",
       "<table border=\"1\" class=\"dataframe\">\n",
       "  <thead>\n",
       "    <tr style=\"text-align: right;\">\n",
       "      <th></th>\n",
       "      <th>account_id</th>\n",
       "      <th>accrual_date</th>\n",
       "      <th>transaction_amount</th>\n",
       "      <th>transaction_id</th>\n",
       "      <th>customer_account_id</th>\n",
       "      <th>customer_name</th>\n",
       "      <th>account_name</th>\n",
       "      <th>balance_id</th>\n",
       "      <th>balance_amount</th>\n",
       "    </tr>\n",
       "  </thead>\n",
       "  <tbody>\n",
       "    <tr>\n",
       "      <th>0</th>\n",
       "      <td>a_0_0</td>\n",
       "      <td>2019-12-24</td>\n",
       "      <td>-248.0</td>\n",
       "      <td>a_0_0_0</td>\n",
       "      <td>a_0</td>\n",
       "      <td>a_0_company</td>\n",
       "      <td>a_0_0_fin_account</td>\n",
       "      <td>a_0_0_bal_0</td>\n",
       "      <td>9950997.0</td>\n",
       "    </tr>\n",
       "    <tr>\n",
       "      <th>1</th>\n",
       "      <td>a_0_0</td>\n",
       "      <td>2019-12-25</td>\n",
       "      <td>-859.0</td>\n",
       "      <td>a_0_0_1</td>\n",
       "      <td>a_0</td>\n",
       "      <td>a_0_company</td>\n",
       "      <td>a_0_0_fin_account</td>\n",
       "      <td>a_0_0_bal_1</td>\n",
       "      <td>9950749.0</td>\n",
       "    </tr>\n",
       "    <tr>\n",
       "      <th>2</th>\n",
       "      <td>a_0_0</td>\n",
       "      <td>2019-12-26</td>\n",
       "      <td>-776.0</td>\n",
       "      <td>a_0_0_2</td>\n",
       "      <td>a_0</td>\n",
       "      <td>a_0_company</td>\n",
       "      <td>a_0_0_fin_account</td>\n",
       "      <td>a_0_0_bal_2</td>\n",
       "      <td>9949890.0</td>\n",
       "    </tr>\n",
       "    <tr>\n",
       "      <th>3</th>\n",
       "      <td>a_0_0</td>\n",
       "      <td>2019-12-27</td>\n",
       "      <td>-605.0</td>\n",
       "      <td>a_0_0_3</td>\n",
       "      <td>a_0</td>\n",
       "      <td>a_0_company</td>\n",
       "      <td>a_0_0_fin_account</td>\n",
       "      <td>a_0_0_bal_3</td>\n",
       "      <td>9949114.0</td>\n",
       "    </tr>\n",
       "    <tr>\n",
       "      <th>4</th>\n",
       "      <td>a_0_0</td>\n",
       "      <td>2019-12-28</td>\n",
       "      <td>-33.0</td>\n",
       "      <td>a_0_0_4</td>\n",
       "      <td>a_0</td>\n",
       "      <td>a_0_company</td>\n",
       "      <td>a_0_0_fin_account</td>\n",
       "      <td>a_0_0_bal_4</td>\n",
       "      <td>9948509.0</td>\n",
       "    </tr>\n",
       "  </tbody>\n",
       "</table>\n",
       "</div>"
      ],
      "text/plain": [
       "  account_id accrual_date  transaction_amount transaction_id  \\\n",
       "0      a_0_0   2019-12-24              -248.0        a_0_0_0   \n",
       "1      a_0_0   2019-12-25              -859.0        a_0_0_1   \n",
       "2      a_0_0   2019-12-26              -776.0        a_0_0_2   \n",
       "3      a_0_0   2019-12-27              -605.0        a_0_0_3   \n",
       "4      a_0_0   2019-12-28               -33.0        a_0_0_4   \n",
       "\n",
       "  customer_account_id customer_name       account_name   balance_id  \\\n",
       "0                 a_0   a_0_company  a_0_0_fin_account  a_0_0_bal_0   \n",
       "1                 a_0   a_0_company  a_0_0_fin_account  a_0_0_bal_1   \n",
       "2                 a_0   a_0_company  a_0_0_fin_account  a_0_0_bal_2   \n",
       "3                 a_0   a_0_company  a_0_0_fin_account  a_0_0_bal_3   \n",
       "4                 a_0   a_0_company  a_0_0_fin_account  a_0_0_bal_4   \n",
       "\n",
       "   balance_amount  \n",
       "0       9950997.0  \n",
       "1       9950749.0  \n",
       "2       9949890.0  \n",
       "3       9949114.0  \n",
       "4       9948509.0  "
      ]
     },
     "execution_count": 17,
     "metadata": {},
     "output_type": "execute_result"
    }
   ],
   "source": [
    "df_transactions_balances.head()"
   ]
  },
  {
   "cell_type": "code",
   "execution_count": 70,
   "metadata": {},
   "outputs": [],
   "source": [
    "# validate the result by checking the original table\n",
    "# how many account does Customer A have?\n",
    "customer_a_acct = financial_accounts.loc[financial_accounts.customer_account_id == customer_a, 'id'].unique().tolist()"
   ]
  },
  {
   "cell_type": "code",
   "execution_count": 71,
   "metadata": {},
   "outputs": [
    {
     "data": {
      "text/plain": [
       "['a_53_0', 'a_53_1', 'a_53_2', 'a_53_3']"
      ]
     },
     "execution_count": 71,
     "metadata": {},
     "output_type": "execute_result"
    }
   ],
   "source": [
    "customer_a_acct"
   ]
  },
  {
   "cell_type": "code",
   "execution_count": 77,
   "metadata": {},
   "outputs": [
    {
     "data": {
      "text/plain": [
       "39806277.0"
      ]
     },
     "execution_count": 77,
     "metadata": {},
     "output_type": "execute_result"
    }
   ],
   "source": [
    "# the result from calculating from the original table is consistent with what we saw earlier\n",
    "financial_balances.loc[(financial_balances.account_id.isin(customer_a_acct)) & (financial_balances.accrual_date == customer_a_balance_date), 'amount'].sum()"
   ]
  },
  {
   "cell_type": "markdown",
   "metadata": {},
   "source": [
    "### Question 2.\n",
    "\n",
    "Recommended time usage: ~10 minutes\n",
    "\n",
    "`financial_balances.csv` shows you the beginning-of-day (BoD) balance, but transactions happened throughout the day. Calculate the end-of-day (EoD) global balance for `Customer A` on `Customer A Balance Date`. ( 1 point )"
   ]
  },
  {
   "cell_type": "code",
   "execution_count": 18,
   "metadata": {},
   "outputs": [
    {
     "data": {
      "text/html": [
       "<div>\n",
       "<style scoped>\n",
       "    .dataframe tbody tr th:only-of-type {\n",
       "        vertical-align: middle;\n",
       "    }\n",
       "\n",
       "    .dataframe tbody tr th {\n",
       "        vertical-align: top;\n",
       "    }\n",
       "\n",
       "    .dataframe thead th {\n",
       "        text-align: right;\n",
       "    }\n",
       "</style>\n",
       "<table border=\"1\" class=\"dataframe\">\n",
       "  <thead>\n",
       "    <tr style=\"text-align: right;\">\n",
       "      <th></th>\n",
       "      <th>account_id</th>\n",
       "      <th>accrual_date</th>\n",
       "      <th>balance_amount</th>\n",
       "      <th>total_transaction_amount</th>\n",
       "    </tr>\n",
       "  </thead>\n",
       "  <tbody>\n",
       "    <tr>\n",
       "      <th>0</th>\n",
       "      <td>a_53_0</td>\n",
       "      <td>2020-07-04</td>\n",
       "      <td>9583746.0</td>\n",
       "      <td>-4389.0</td>\n",
       "    </tr>\n",
       "    <tr>\n",
       "      <th>1</th>\n",
       "      <td>a_53_1</td>\n",
       "      <td>2020-07-04</td>\n",
       "      <td>10009497.0</td>\n",
       "      <td>-731.0</td>\n",
       "    </tr>\n",
       "    <tr>\n",
       "      <th>2</th>\n",
       "      <td>a_53_2</td>\n",
       "      <td>2020-07-04</td>\n",
       "      <td>10022075.0</td>\n",
       "      <td>-1177.0</td>\n",
       "    </tr>\n",
       "    <tr>\n",
       "      <th>3</th>\n",
       "      <td>a_53_3</td>\n",
       "      <td>2020-07-04</td>\n",
       "      <td>10190959.0</td>\n",
       "      <td>-185.0</td>\n",
       "    </tr>\n",
       "  </tbody>\n",
       "</table>\n",
       "</div>"
      ],
      "text/plain": [
       "  account_id accrual_date  balance_amount  total_transaction_amount\n",
       "0     a_53_0   2020-07-04       9583746.0                   -4389.0\n",
       "1     a_53_1   2020-07-04      10009497.0                    -731.0\n",
       "2     a_53_2   2020-07-04      10022075.0                   -1177.0\n",
       "3     a_53_3   2020-07-04      10190959.0                    -185.0"
      ]
     },
     "execution_count": 18,
     "metadata": {},
     "output_type": "execute_result"
    }
   ],
   "source": [
    "# use customer_a and/or customer_a_account_1 and/or customer_a_balance_date\n",
    "customerA = df_transactions_balances.loc[(df_transactions_balances.customer_account_id == customer_a) &\n",
    "                                         (df_transactions_balances.accrual_date == customer_a_balance_date)]\n",
    "customerA_agg = customerA.groupby(by=['account_id', 'accrual_date','balance_amount'], as_index=False).agg(total_transaction_amount = ('transaction_amount','sum'))\n",
    "customerA_agg"
   ]
  },
  {
   "cell_type": "code",
   "execution_count": 19,
   "metadata": {},
   "outputs": [
    {
     "data": {
      "text/html": [
       "<div>\n",
       "<style scoped>\n",
       "    .dataframe tbody tr th:only-of-type {\n",
       "        vertical-align: middle;\n",
       "    }\n",
       "\n",
       "    .dataframe tbody tr th {\n",
       "        vertical-align: top;\n",
       "    }\n",
       "\n",
       "    .dataframe thead th {\n",
       "        text-align: right;\n",
       "    }\n",
       "</style>\n",
       "<table border=\"1\" class=\"dataframe\">\n",
       "  <thead>\n",
       "    <tr style=\"text-align: right;\">\n",
       "      <th></th>\n",
       "      <th>account_id</th>\n",
       "      <th>accrual_date</th>\n",
       "      <th>balance_amount</th>\n",
       "      <th>total_transaction_amount</th>\n",
       "      <th>balance_amount_EoD</th>\n",
       "    </tr>\n",
       "  </thead>\n",
       "  <tbody>\n",
       "    <tr>\n",
       "      <th>0</th>\n",
       "      <td>a_53_0</td>\n",
       "      <td>2020-07-04</td>\n",
       "      <td>9583746.0</td>\n",
       "      <td>-4389.0</td>\n",
       "      <td>9579357.0</td>\n",
       "    </tr>\n",
       "    <tr>\n",
       "      <th>1</th>\n",
       "      <td>a_53_1</td>\n",
       "      <td>2020-07-04</td>\n",
       "      <td>10009497.0</td>\n",
       "      <td>-731.0</td>\n",
       "      <td>10008766.0</td>\n",
       "    </tr>\n",
       "    <tr>\n",
       "      <th>2</th>\n",
       "      <td>a_53_2</td>\n",
       "      <td>2020-07-04</td>\n",
       "      <td>10022075.0</td>\n",
       "      <td>-1177.0</td>\n",
       "      <td>10020898.0</td>\n",
       "    </tr>\n",
       "    <tr>\n",
       "      <th>3</th>\n",
       "      <td>a_53_3</td>\n",
       "      <td>2020-07-04</td>\n",
       "      <td>10190959.0</td>\n",
       "      <td>-185.0</td>\n",
       "      <td>10190774.0</td>\n",
       "    </tr>\n",
       "  </tbody>\n",
       "</table>\n",
       "</div>"
      ],
      "text/plain": [
       "  account_id accrual_date  balance_amount  total_transaction_amount  \\\n",
       "0     a_53_0   2020-07-04       9583746.0                   -4389.0   \n",
       "1     a_53_1   2020-07-04      10009497.0                    -731.0   \n",
       "2     a_53_2   2020-07-04      10022075.0                   -1177.0   \n",
       "3     a_53_3   2020-07-04      10190959.0                    -185.0   \n",
       "\n",
       "   balance_amount_EoD  \n",
       "0           9579357.0  \n",
       "1          10008766.0  \n",
       "2          10020898.0  \n",
       "3          10190774.0  "
      ]
     },
     "execution_count": 19,
     "metadata": {},
     "output_type": "execute_result"
    }
   ],
   "source": [
    "customerA_agg['balance_amount_EoD'] = customerA_agg['balance_amount'] + customerA_agg['total_transaction_amount']\n",
    "customerA_agg"
   ]
  },
  {
   "cell_type": "code",
   "execution_count": 20,
   "metadata": {},
   "outputs": [
    {
     "data": {
      "text/html": [
       "<div>\n",
       "<style scoped>\n",
       "    .dataframe tbody tr th:only-of-type {\n",
       "        vertical-align: middle;\n",
       "    }\n",
       "\n",
       "    .dataframe tbody tr th {\n",
       "        vertical-align: top;\n",
       "    }\n",
       "\n",
       "    .dataframe thead th {\n",
       "        text-align: right;\n",
       "    }\n",
       "</style>\n",
       "<table border=\"1\" class=\"dataframe\">\n",
       "  <thead>\n",
       "    <tr style=\"text-align: right;\">\n",
       "      <th></th>\n",
       "      <th>account_id</th>\n",
       "      <th>accrual_date</th>\n",
       "      <th>customer_account_id</th>\n",
       "      <th>balance_amount</th>\n",
       "    </tr>\n",
       "  </thead>\n",
       "  <tbody>\n",
       "    <tr>\n",
       "      <th>82166</th>\n",
       "      <td>a_53_0</td>\n",
       "      <td>2020-07-05</td>\n",
       "      <td>a_53</td>\n",
       "      <td>9579357.0</td>\n",
       "    </tr>\n",
       "    <tr>\n",
       "      <th>82688</th>\n",
       "      <td>a_53_1</td>\n",
       "      <td>2020-07-05</td>\n",
       "      <td>a_53</td>\n",
       "      <td>10008766.0</td>\n",
       "    </tr>\n",
       "    <tr>\n",
       "      <th>82858</th>\n",
       "      <td>a_53_2</td>\n",
       "      <td>2020-07-05</td>\n",
       "      <td>a_53</td>\n",
       "      <td>10020898.0</td>\n",
       "    </tr>\n",
       "    <tr>\n",
       "      <th>82977</th>\n",
       "      <td>a_53_3</td>\n",
       "      <td>2020-07-05</td>\n",
       "      <td>a_53</td>\n",
       "      <td>10190774.0</td>\n",
       "    </tr>\n",
       "  </tbody>\n",
       "</table>\n",
       "</div>"
      ],
      "text/plain": [
       "      account_id accrual_date customer_account_id  balance_amount\n",
       "82166     a_53_0   2020-07-05                a_53       9579357.0\n",
       "82688     a_53_1   2020-07-05                a_53      10008766.0\n",
       "82858     a_53_2   2020-07-05                a_53      10020898.0\n",
       "82977     a_53_3   2020-07-05                a_53      10190774.0"
      ]
     },
     "execution_count": 20,
     "metadata": {},
     "output_type": "execute_result"
    }
   ],
   "source": [
    "# validate the result through using the beginning-of-day (BoD) balance in financial_balances.csv\n",
    "# it is apparent that the BoD balance on '2020-07-05' is consistent with the EoD balance that we calculated on '2020-07-04'\n",
    "df_transactions_balances.loc[(df_transactions_balances.customer_account_id == customer_a) &\n",
    "                            (df_transactions_balances.accrual_date == '2020-07-05'),\n",
    "                            ['account_id','accrual_date','customer_account_id','balance_amount']].drop_duplicates()"
   ]
  },
  {
   "cell_type": "code",
   "execution_count": 21,
   "metadata": {},
   "outputs": [
    {
     "name": "stdout",
     "output_type": "stream",
     "text": [
      "the end-of-day (EoD) global balance for Customer A on Customer A Balance Date is 39799795.0\n"
     ]
    }
   ],
   "source": [
    "customerA_globel_balance = customerA_agg['balance_amount_EoD'].sum()\n",
    "print('the end-of-day (EoD) global balance for Customer A on Customer A Balance Date is {}'.format(customerA_globel_balance))"
   ]
  },
  {
   "cell_type": "code",
   "execution_count": 80,
   "metadata": {},
   "outputs": [
    {
     "data": {
      "text/plain": [
       "39799795.0"
      ]
     },
     "execution_count": 80,
     "metadata": {},
     "output_type": "execute_result"
    }
   ],
   "source": [
    "# validating the results by calculate the difference between sum of transactions and the sum of balances across accounts\n",
    "transactional_amount = financial_transactions.loc[(financial_transactions.account_id.isin(customer_a_acct)) & (financial_transactions.accrual_date == customer_a_balance_date), 'amount'].sum()\n",
    "balance_amount = financial_balances.loc[(financial_balances.account_id.isin(customer_a_acct)) & (financial_balances.accrual_date == customer_a_balance_date), 'amount'].sum()\n",
    "balance_amount + transactional_amount "
   ]
  },
  {
   "cell_type": "markdown",
   "metadata": {},
   "source": [
    "### Question 3.\n",
    "Recommended time usage: ~20 minutes\n",
    "\n",
    "(a) Among the `customer_account_id`s without any missing or null/NaN beginning-of-day balance for any date in between their first and their last `accrual_date`s, which `customer_account_id` has the largest variance of the sums of daily transactions amounts across all accounts? ( 1 points )\n",
    "\n",
    "(b) Compute the `end-of-day` balances for all `financial_accounts`. Fill in as many missing dates as possible. The final dataset should include daily `end-of-day` balances for all `financial_accounts` as a csv in a similar format as `financial_balances.csv` (include just those columns: [`account_id, accrual_date, amount`]) and named `financial_balances_submission.csv`. ( 10 points )"
   ]
  },
  {
   "cell_type": "code",
   "execution_count": 81,
   "metadata": {},
   "outputs": [
    {
     "name": "stdout",
     "output_type": "stream",
     "text": [
      "account_id                 0\n",
      "accrual_date               0\n",
      "transaction_amount         0\n",
      "transaction_id             0\n",
      "customer_account_id        0\n",
      "customer_name              0\n",
      "account_name               0\n",
      "balance_id             14462\n",
      "balance_amount         14686\n",
      "dtype: int64\n",
      "85 out of 150 total customers who have at least one missing/null/NaN BoD balance\n"
     ]
    }
   ],
   "source": [
    "# step 1: generate a list of customers with at least one missing/null/NaN balance for any date between \n",
    "# checking missing value \n",
    "# we can see that there are two missing data condition - either missing balance_id or missing balance_amount\n",
    "print(df_transactions_balances.isnull().sum())\n",
    "customer_with_null = df_transactions_balances.loc[df_transactions_balances.balance_amount.isnull(), 'customer_account_id'].unique().tolist()\n",
    "customer_unique = df_transactions_balances.loc[:,'customer_account_id'].nunique()\n",
    "print('{0} out of {1} total customers who have at least one missing/null/NaN BoD balance'.format(len(customer_with_null), customer_unique))"
   ]
  },
  {
   "cell_type": "code",
   "execution_count": 119,
   "metadata": {},
   "outputs": [],
   "source": [
    "# step 2: filter out those customer IDs with missing value of BoD balance \n",
    "df_customer_wt_missing = df_transactions_balances[~df_transactions_balances.customer_account_id.isin(customer_with_null)]\n",
    "# step 3: sum up the transaction amount at daily basis\n",
    "df_customer_wt_missing_agg = df_customer_wt_missing.groupby(by=['customer_account_id','account_id', 'accrual_date','balance_amount'], as_index=False).agg(total_transaction_amount = ('transaction_amount','sum'))\n",
    "# step 4: calculate the variance of the daily transaction amounts\n",
    "customer_var = df_customer_wt_missing_agg.groupby(by='customer_account_id', as_index=False).agg(daily_transaction_variance = ('total_transaction_amount','var'))\n",
    "customer_var['daily_transaction_variance'] = customer_var['daily_transaction_variance'].astype('int64')\n"
   ]
  },
  {
   "cell_type": "code",
   "execution_count": 125,
   "metadata": {},
   "outputs": [
    {
     "data": {
      "text/html": [
       "<div>\n",
       "<style scoped>\n",
       "    .dataframe tbody tr th:only-of-type {\n",
       "        vertical-align: middle;\n",
       "    }\n",
       "\n",
       "    .dataframe tbody tr th {\n",
       "        vertical-align: top;\n",
       "    }\n",
       "\n",
       "    .dataframe thead th {\n",
       "        text-align: right;\n",
       "    }\n",
       "</style>\n",
       "<table border=\"1\" class=\"dataframe\">\n",
       "  <thead>\n",
       "    <tr style=\"text-align: right;\">\n",
       "      <th></th>\n",
       "      <th>customer_account_id</th>\n",
       "      <th>daily_transaction_variance</th>\n",
       "    </tr>\n",
       "  </thead>\n",
       "  <tbody>\n",
       "    <tr>\n",
       "      <th>0</th>\n",
       "      <td>a_0</td>\n",
       "      <td>4127577</td>\n",
       "    </tr>\n",
       "    <tr>\n",
       "      <th>1</th>\n",
       "      <td>a_107</td>\n",
       "      <td>595651</td>\n",
       "    </tr>\n",
       "    <tr>\n",
       "      <th>2</th>\n",
       "      <td>a_109</td>\n",
       "      <td>227425</td>\n",
       "    </tr>\n",
       "    <tr>\n",
       "      <th>3</th>\n",
       "      <td>a_110</td>\n",
       "      <td>3130607</td>\n",
       "    </tr>\n",
       "    <tr>\n",
       "      <th>4</th>\n",
       "      <td>a_112</td>\n",
       "      <td>1506203</td>\n",
       "    </tr>\n",
       "  </tbody>\n",
       "</table>\n",
       "</div>"
      ],
      "text/plain": [
       "  customer_account_id  daily_transaction_variance\n",
       "0                 a_0                     4127577\n",
       "1               a_107                      595651\n",
       "2               a_109                      227425\n",
       "3               a_110                     3130607\n",
       "4               a_112                     1506203"
      ]
     },
     "execution_count": 125,
     "metadata": {},
     "output_type": "execute_result"
    }
   ],
   "source": [
    "customer_var.head()"
   ]
  },
  {
   "cell_type": "code",
   "execution_count": 126,
   "metadata": {},
   "outputs": [
    {
     "data": {
      "text/plain": [
       "65"
      ]
     },
     "execution_count": 126,
     "metadata": {},
     "output_type": "execute_result"
    }
   ],
   "source": [
    "# data quality check \n",
    "# ensure these customer account id are without any missing value in balance\n",
    "# previously we know there are 85 out of 150 customers with the missing value \n",
    "# the number of the rest of customer should be 150-85 = 65\n",
    "customer_var.customer_account_id.nunique()"
   ]
  },
  {
   "cell_type": "code",
   "execution_count": 127,
   "metadata": {},
   "outputs": [
    {
     "data": {
      "text/html": [
       "<div>\n",
       "<style scoped>\n",
       "    .dataframe tbody tr th:only-of-type {\n",
       "        vertical-align: middle;\n",
       "    }\n",
       "\n",
       "    .dataframe tbody tr th {\n",
       "        vertical-align: top;\n",
       "    }\n",
       "\n",
       "    .dataframe thead th {\n",
       "        text-align: right;\n",
       "    }\n",
       "</style>\n",
       "<table border=\"1\" class=\"dataframe\">\n",
       "  <thead>\n",
       "    <tr style=\"text-align: right;\">\n",
       "      <th></th>\n",
       "      <th>customer_account_id</th>\n",
       "      <th>daily_transaction_variance</th>\n",
       "    </tr>\n",
       "  </thead>\n",
       "  <tbody>\n",
       "    <tr>\n",
       "      <th>59</th>\n",
       "      <td>a_91</td>\n",
       "      <td>344160976</td>\n",
       "    </tr>\n",
       "    <tr>\n",
       "      <th>49</th>\n",
       "      <td>a_65</td>\n",
       "      <td>169687253</td>\n",
       "    </tr>\n",
       "    <tr>\n",
       "      <th>18</th>\n",
       "      <td>a_144</td>\n",
       "      <td>117732662</td>\n",
       "    </tr>\n",
       "    <tr>\n",
       "      <th>21</th>\n",
       "      <td>a_148</td>\n",
       "      <td>91673075</td>\n",
       "    </tr>\n",
       "    <tr>\n",
       "      <th>5</th>\n",
       "      <td>a_114</td>\n",
       "      <td>85188075</td>\n",
       "    </tr>\n",
       "  </tbody>\n",
       "</table>\n",
       "</div>"
      ],
      "text/plain": [
       "   customer_account_id  daily_transaction_variance\n",
       "59                a_91                   344160976\n",
       "49                a_65                   169687253\n",
       "18               a_144                   117732662\n",
       "21               a_148                    91673075\n",
       "5                a_114                    85188075"
      ]
     },
     "execution_count": 127,
     "metadata": {},
     "output_type": "execute_result"
    }
   ],
   "source": [
    "# step 5: return the customer_account_id that has the highest variance in daily transaction amount\n",
    "customer_var.sort_values(by='daily_transaction_variance', ascending=False).head()"
   ]
  },
  {
   "cell_type": "code",
   "execution_count": 128,
   "metadata": {},
   "outputs": [
    {
     "data": {
      "text/plain": [
       "340538228.9566759"
      ]
     },
     "execution_count": 128,
     "metadata": {},
     "output_type": "execute_result"
    }
   ],
   "source": [
    "# validate the result via calculating variance using np.var() for the particular customer_account_id\n",
    "a_91_transaction = df_customer_wt_missing_agg.loc[df_customer_wt_missing_agg.customer_account_id== 'a_91', 'total_transaction_amount'].tolist()\n",
    "np.var(a_91_transaction)\n"
   ]
  },
  {
   "cell_type": "code",
   "execution_count": 28,
   "metadata": {},
   "outputs": [
    {
     "name": "stdout",
     "output_type": "stream",
     "text": [
      "a_91 has the largest variance of the sums of daily transactions amounts across all accounts?\n"
     ]
    }
   ],
   "source": [
    "print('{} has the largest variance of the sums of daily transactions amounts across all accounts?'.format('a_91'))"
   ]
  },
  {
   "cell_type": "markdown",
   "metadata": {},
   "source": [
    "(b) Among the `customer_account_id`s without any missing or null/NaN beginning-of-day balance for any date in between their first and their last `accrual_date`s, which `customer_account_id` has the largest variance of the EoD (end-of-day, not beginning-of-day) global balances? ( 2 points )"
   ]
  },
  {
   "cell_type": "code",
   "execution_count": 29,
   "metadata": {},
   "outputs": [
    {
     "data": {
      "text/html": [
       "<div>\n",
       "<style scoped>\n",
       "    .dataframe tbody tr th:only-of-type {\n",
       "        vertical-align: middle;\n",
       "    }\n",
       "\n",
       "    .dataframe tbody tr th {\n",
       "        vertical-align: top;\n",
       "    }\n",
       "\n",
       "    .dataframe thead th {\n",
       "        text-align: right;\n",
       "    }\n",
       "</style>\n",
       "<table border=\"1\" class=\"dataframe\">\n",
       "  <thead>\n",
       "    <tr style=\"text-align: right;\">\n",
       "      <th></th>\n",
       "      <th>customer_account_id</th>\n",
       "      <th>account_id</th>\n",
       "      <th>accrual_date</th>\n",
       "      <th>balance_amount</th>\n",
       "      <th>total_transaction_amount</th>\n",
       "      <th>balance_amount_EoD</th>\n",
       "    </tr>\n",
       "  </thead>\n",
       "  <tbody>\n",
       "    <tr>\n",
       "      <th>0</th>\n",
       "      <td>a_0</td>\n",
       "      <td>a_0_0</td>\n",
       "      <td>2019-12-24</td>\n",
       "      <td>9950997.0</td>\n",
       "      <td>-248.0</td>\n",
       "      <td>9950749.0</td>\n",
       "    </tr>\n",
       "    <tr>\n",
       "      <th>1</th>\n",
       "      <td>a_0</td>\n",
       "      <td>a_0_0</td>\n",
       "      <td>2019-12-25</td>\n",
       "      <td>9950749.0</td>\n",
       "      <td>-859.0</td>\n",
       "      <td>9949890.0</td>\n",
       "    </tr>\n",
       "    <tr>\n",
       "      <th>2</th>\n",
       "      <td>a_0</td>\n",
       "      <td>a_0_0</td>\n",
       "      <td>2019-12-26</td>\n",
       "      <td>9949890.0</td>\n",
       "      <td>-776.0</td>\n",
       "      <td>9949114.0</td>\n",
       "    </tr>\n",
       "    <tr>\n",
       "      <th>3</th>\n",
       "      <td>a_0</td>\n",
       "      <td>a_0_0</td>\n",
       "      <td>2019-12-27</td>\n",
       "      <td>9949114.0</td>\n",
       "      <td>-605.0</td>\n",
       "      <td>9948509.0</td>\n",
       "    </tr>\n",
       "    <tr>\n",
       "      <th>4</th>\n",
       "      <td>a_0</td>\n",
       "      <td>a_0_0</td>\n",
       "      <td>2019-12-28</td>\n",
       "      <td>9948509.0</td>\n",
       "      <td>-33.0</td>\n",
       "      <td>9948476.0</td>\n",
       "    </tr>\n",
       "  </tbody>\n",
       "</table>\n",
       "</div>"
      ],
      "text/plain": [
       "  customer_account_id account_id accrual_date  balance_amount  \\\n",
       "0                 a_0      a_0_0   2019-12-24       9950997.0   \n",
       "1                 a_0      a_0_0   2019-12-25       9950749.0   \n",
       "2                 a_0      a_0_0   2019-12-26       9949890.0   \n",
       "3                 a_0      a_0_0   2019-12-27       9949114.0   \n",
       "4                 a_0      a_0_0   2019-12-28       9948509.0   \n",
       "\n",
       "   total_transaction_amount  balance_amount_EoD  \n",
       "0                    -248.0           9950749.0  \n",
       "1                    -859.0           9949890.0  \n",
       "2                    -776.0           9949114.0  \n",
       "3                    -605.0           9948509.0  \n",
       "4                     -33.0           9948476.0  "
      ]
     },
     "execution_count": 29,
     "metadata": {},
     "output_type": "execute_result"
    }
   ],
   "source": [
    "# step1: calculate end-of-day balance \n",
    "# end-of-day balance (EoD) = beginning-of-day balance (BoD) + tota transaction amount \n",
    "df_customer_wt_missing_agg['balance_amount_EoD'] = df_customer_wt_missing_agg['balance_amount'] + df_customer_wt_missing_agg['total_transaction_amount']\n",
    "df_customer_wt_missing_agg.head()"
   ]
  },
  {
   "cell_type": "code",
   "execution_count": 109,
   "metadata": {},
   "outputs": [],
   "source": [
    "# step2: roll it up to customer_account_id and accrual_date level to get the EoD balance per day\n",
    "customer_balance_daily = df_customer_wt_missing_agg.groupby(by=['customer_account_id','accrual_date'], as_index=False).agg(daily_balance_amount_EoD = ('balance_amount_EoD','sum'))\n",
    "# step3: calculate the variance of the EoD globel accounts per account id\n",
    "customer_balance_var = customer_balance_daily.groupby(by=['customer_account_id'], as_index=False).agg(daily_balance_variance = ('daily_balance_amount_EoD','var'))\n"
   ]
  },
  {
   "cell_type": "code",
   "execution_count": 111,
   "metadata": {},
   "outputs": [
    {
     "data": {
      "text/html": [
       "<div>\n",
       "<style scoped>\n",
       "    .dataframe tbody tr th:only-of-type {\n",
       "        vertical-align: middle;\n",
       "    }\n",
       "\n",
       "    .dataframe tbody tr th {\n",
       "        vertical-align: top;\n",
       "    }\n",
       "\n",
       "    .dataframe thead th {\n",
       "        text-align: right;\n",
       "    }\n",
       "</style>\n",
       "<table border=\"1\" class=\"dataframe\">\n",
       "  <thead>\n",
       "    <tr style=\"text-align: right;\">\n",
       "      <th></th>\n",
       "      <th>customer_account_id</th>\n",
       "      <th>daily_balance_variance</th>\n",
       "    </tr>\n",
       "  </thead>\n",
       "  <tbody>\n",
       "    <tr>\n",
       "      <th>3</th>\n",
       "      <td>a_110</td>\n",
       "      <td>372505915518462</td>\n",
       "    </tr>\n",
       "    <tr>\n",
       "      <th>26</th>\n",
       "      <td>a_2</td>\n",
       "      <td>313327876573938</td>\n",
       "    </tr>\n",
       "    <tr>\n",
       "      <th>23</th>\n",
       "      <td>a_15</td>\n",
       "      <td>271221007024740</td>\n",
       "    </tr>\n",
       "    <tr>\n",
       "      <th>8</th>\n",
       "      <td>a_118</td>\n",
       "      <td>258427337767706</td>\n",
       "    </tr>\n",
       "    <tr>\n",
       "      <th>12</th>\n",
       "      <td>a_125</td>\n",
       "      <td>252537192404649</td>\n",
       "    </tr>\n",
       "  </tbody>\n",
       "</table>\n",
       "</div>"
      ],
      "text/plain": [
       "   customer_account_id  daily_balance_variance\n",
       "3                a_110         372505915518462\n",
       "26                 a_2         313327876573938\n",
       "23                a_15         271221007024740\n",
       "8                a_118         258427337767706\n",
       "12               a_125         252537192404649"
      ]
     },
     "execution_count": 111,
     "metadata": {},
     "output_type": "execute_result"
    }
   ],
   "source": [
    "# step3: return the customer_account_id that has the highest variance  the EoD global balances\n",
    "customer_balance_var['daily_balance_variance'] = customer_balance_var['daily_balance_variance'].astype('int64')\n",
    "customer_balance_var.sort_values(by='daily_balance_variance', ascending=False).head()"
   ]
  },
  {
   "cell_type": "code",
   "execution_count": 114,
   "metadata": {},
   "outputs": [
    {
     "name": "stdout",
     "output_type": "stream",
     "text": [
      "Variance of sample set is 372505915518462.3\n"
     ]
    }
   ],
   "source": [
    "# validate the result using variance() \n",
    "test_list = customer_balance_daily.loc[customer_balance_daily.customer_account_id == 'a_110', 'daily_balance_amount_EoD'].tolist()\n",
    "  \n",
    "# Function will automatically calculate\n",
    "# it's mean and set it as xbar\n",
    "print(\"Variance of sample set is % s\" %(statistics.variance(test_list)))"
   ]
  },
  {
   "cell_type": "markdown",
   "metadata": {},
   "source": [
    "### Question 4. \n",
    "\n",
    "Recommended time usage: ~60+ minutes\n",
    "\n",
    "(a) Calculate the `end-of-day` global balance for `Customer B` on `Customer B Balance Date`. Fill in this EoD balance as the answer in the submission csv. ( 4 points )"
   ]
  },
  {
   "cell_type": "code",
   "execution_count": 131,
   "metadata": {},
   "outputs": [
    {
     "data": {
      "text/html": [
       "<div>\n",
       "<style scoped>\n",
       "    .dataframe tbody tr th:only-of-type {\n",
       "        vertical-align: middle;\n",
       "    }\n",
       "\n",
       "    .dataframe tbody tr th {\n",
       "        vertical-align: top;\n",
       "    }\n",
       "\n",
       "    .dataframe thead th {\n",
       "        text-align: right;\n",
       "    }\n",
       "</style>\n",
       "<table border=\"1\" class=\"dataframe\">\n",
       "  <thead>\n",
       "    <tr style=\"text-align: right;\">\n",
       "      <th></th>\n",
       "      <th>account_id</th>\n",
       "      <th>accrual_date</th>\n",
       "      <th>transaction_amount</th>\n",
       "      <th>transaction_id</th>\n",
       "      <th>customer_account_id</th>\n",
       "      <th>customer_name</th>\n",
       "      <th>account_name</th>\n",
       "      <th>balance_id</th>\n",
       "      <th>balance_amount</th>\n",
       "    </tr>\n",
       "  </thead>\n",
       "  <tbody>\n",
       "    <tr>\n",
       "      <th>50869</th>\n",
       "      <td>a_32_0</td>\n",
       "      <td>2020-08-12</td>\n",
       "      <td>-661.0</td>\n",
       "      <td>a_32_0_155</td>\n",
       "      <td>a_32</td>\n",
       "      <td>a_32_company</td>\n",
       "      <td>a_32_0_fin_account</td>\n",
       "      <td>NaN</td>\n",
       "      <td>NaN</td>\n",
       "    </tr>\n",
       "    <tr>\n",
       "      <th>51025</th>\n",
       "      <td>a_32_1</td>\n",
       "      <td>2020-08-12</td>\n",
       "      <td>-301.0</td>\n",
       "      <td>a_32_1_135</td>\n",
       "      <td>a_32</td>\n",
       "      <td>a_32_company</td>\n",
       "      <td>a_32_1_fin_account</td>\n",
       "      <td>NaN</td>\n",
       "      <td>NaN</td>\n",
       "    </tr>\n",
       "  </tbody>\n",
       "</table>\n",
       "</div>"
      ],
      "text/plain": [
       "      account_id accrual_date  transaction_amount transaction_id  \\\n",
       "50869     a_32_0   2020-08-12              -661.0     a_32_0_155   \n",
       "51025     a_32_1   2020-08-12              -301.0     a_32_1_135   \n",
       "\n",
       "      customer_account_id customer_name        account_name balance_id  \\\n",
       "50869                a_32  a_32_company  a_32_0_fin_account        NaN   \n",
       "51025                a_32  a_32_company  a_32_1_fin_account        NaN   \n",
       "\n",
       "       balance_amount  \n",
       "50869             NaN  \n",
       "51025             NaN  "
      ]
     },
     "execution_count": 131,
     "metadata": {},
     "output_type": "execute_result"
    }
   ],
   "source": [
    "# use customer_b and/or customer_b_balance_date\n",
    "# (a)\n",
    "# Based on the previous rule, we realize that end-of-day balance is calculated by the sum of the BoD balance and daily transactions across accounts\n",
    "# However, we may notice that there are no balanced_id/ balance_amount associated with some of the accounts\n",
    "df_transactions_balances[(df_transactions_balances.customer_account_id == customer_b) & (df_transactions_balances.accrual_date == customer_b_balance_date)]\n"
   ]
  },
  {
   "cell_type": "code",
   "execution_count": 132,
   "metadata": {},
   "outputs": [
    {
     "data": {
      "text/html": [
       "<div>\n",
       "<style scoped>\n",
       "    .dataframe tbody tr th:only-of-type {\n",
       "        vertical-align: middle;\n",
       "    }\n",
       "\n",
       "    .dataframe tbody tr th {\n",
       "        vertical-align: top;\n",
       "    }\n",
       "\n",
       "    .dataframe thead th {\n",
       "        text-align: right;\n",
       "    }\n",
       "</style>\n",
       "<table border=\"1\" class=\"dataframe\">\n",
       "  <thead>\n",
       "    <tr style=\"text-align: right;\">\n",
       "      <th></th>\n",
       "      <th>customer_account_id</th>\n",
       "      <th>account_id</th>\n",
       "      <th>accrual_date</th>\n",
       "      <th>balance_amount</th>\n",
       "      <th>total_transaction_amount</th>\n",
       "    </tr>\n",
       "  </thead>\n",
       "  <tbody>\n",
       "    <tr>\n",
       "      <th>0</th>\n",
       "      <td>a_32</td>\n",
       "      <td>a_32_0</td>\n",
       "      <td>2020-03-10</td>\n",
       "      <td>9960127.0</td>\n",
       "      <td>-670.0</td>\n",
       "    </tr>\n",
       "    <tr>\n",
       "      <th>1</th>\n",
       "      <td>a_32</td>\n",
       "      <td>a_32_0</td>\n",
       "      <td>2020-03-11</td>\n",
       "      <td>9959457.0</td>\n",
       "      <td>333.0</td>\n",
       "    </tr>\n",
       "    <tr>\n",
       "      <th>2</th>\n",
       "      <td>a_32</td>\n",
       "      <td>a_32_0</td>\n",
       "      <td>2020-03-12</td>\n",
       "      <td>9959790.0</td>\n",
       "      <td>-1094.0</td>\n",
       "    </tr>\n",
       "    <tr>\n",
       "      <th>3</th>\n",
       "      <td>a_32</td>\n",
       "      <td>a_32_0</td>\n",
       "      <td>2020-03-13</td>\n",
       "      <td>9958696.0</td>\n",
       "      <td>-1147.0</td>\n",
       "    </tr>\n",
       "    <tr>\n",
       "      <th>4</th>\n",
       "      <td>a_32</td>\n",
       "      <td>a_32_0</td>\n",
       "      <td>2020-03-14</td>\n",
       "      <td>9957549.0</td>\n",
       "      <td>-385.0</td>\n",
       "    </tr>\n",
       "  </tbody>\n",
       "</table>\n",
       "</div>"
      ],
      "text/plain": [
       "  customer_account_id account_id accrual_date  balance_amount  \\\n",
       "0                a_32     a_32_0   2020-03-10       9960127.0   \n",
       "1                a_32     a_32_0   2020-03-11       9959457.0   \n",
       "2                a_32     a_32_0   2020-03-12       9959790.0   \n",
       "3                a_32     a_32_0   2020-03-13       9958696.0   \n",
       "4                a_32     a_32_0   2020-03-14       9957549.0   \n",
       "\n",
       "   total_transaction_amount  \n",
       "0                    -670.0  \n",
       "1                     333.0  \n",
       "2                   -1094.0  \n",
       "3                   -1147.0  \n",
       "4                    -385.0  "
      ]
     },
     "execution_count": 132,
     "metadata": {},
     "output_type": "execute_result"
    }
   ],
   "source": [
    "# step1: aggregate the transactions\n",
    "# We need to fill missing values with 0 otherwise group by will drop out all the nulls in groupby\n",
    "pd.set_option(\"display.max_rows\", None, \"display.max_columns\", None) \n",
    "groupby_cols = ['customer_account_id', 'account_id', 'accrual_date','balance_amount']\n",
    "customerB_agg = df_transactions_balances[df_transactions_balances.customer_account_id == customer_b].fillna(0).groupby(by=groupby_cols, as_index=False).agg(total_transaction_amount = ('transaction_amount','sum'))\n",
    "customerB_agg.head(5)"
   ]
  },
  {
   "cell_type": "code",
   "execution_count": 133,
   "metadata": {},
   "outputs": [
    {
     "data": {
      "text/html": [
       "<div>\n",
       "<style scoped>\n",
       "    .dataframe tbody tr th:only-of-type {\n",
       "        vertical-align: middle;\n",
       "    }\n",
       "\n",
       "    .dataframe tbody tr th {\n",
       "        vertical-align: top;\n",
       "    }\n",
       "\n",
       "    .dataframe thead th {\n",
       "        text-align: right;\n",
       "    }\n",
       "</style>\n",
       "<table border=\"1\" class=\"dataframe\">\n",
       "  <thead>\n",
       "    <tr style=\"text-align: right;\">\n",
       "      <th></th>\n",
       "      <th>customer_account_id</th>\n",
       "      <th>account_id</th>\n",
       "      <th>accrual_date</th>\n",
       "      <th>balance_amount</th>\n",
       "      <th>total_transaction_amount</th>\n",
       "    </tr>\n",
       "  </thead>\n",
       "  <tbody>\n",
       "    <tr>\n",
       "      <th>142</th>\n",
       "      <td>a_32</td>\n",
       "      <td>a_32_0</td>\n",
       "      <td>2020-07-30</td>\n",
       "      <td>0.0</td>\n",
       "      <td>-225.0</td>\n",
       "    </tr>\n",
       "    <tr>\n",
       "      <th>143</th>\n",
       "      <td>a_32</td>\n",
       "      <td>a_32_0</td>\n",
       "      <td>2020-07-31</td>\n",
       "      <td>0.0</td>\n",
       "      <td>-332.0</td>\n",
       "    </tr>\n",
       "    <tr>\n",
       "      <th>144</th>\n",
       "      <td>a_32</td>\n",
       "      <td>a_32_0</td>\n",
       "      <td>2020-08-01</td>\n",
       "      <td>0.0</td>\n",
       "      <td>-553.0</td>\n",
       "    </tr>\n",
       "    <tr>\n",
       "      <th>145</th>\n",
       "      <td>a_32</td>\n",
       "      <td>a_32_0</td>\n",
       "      <td>2020-08-02</td>\n",
       "      <td>0.0</td>\n",
       "      <td>-533.0</td>\n",
       "    </tr>\n",
       "    <tr>\n",
       "      <th>146</th>\n",
       "      <td>a_32</td>\n",
       "      <td>a_32_0</td>\n",
       "      <td>2020-08-03</td>\n",
       "      <td>0.0</td>\n",
       "      <td>-406.0</td>\n",
       "    </tr>\n",
       "  </tbody>\n",
       "</table>\n",
       "</div>"
      ],
      "text/plain": [
       "    customer_account_id account_id accrual_date  balance_amount  \\\n",
       "142                a_32     a_32_0   2020-07-30             0.0   \n",
       "143                a_32     a_32_0   2020-07-31             0.0   \n",
       "144                a_32     a_32_0   2020-08-01             0.0   \n",
       "145                a_32     a_32_0   2020-08-02             0.0   \n",
       "146                a_32     a_32_0   2020-08-03             0.0   \n",
       "\n",
       "     total_transaction_amount  \n",
       "142                    -225.0  \n",
       "143                    -332.0  \n",
       "144                    -553.0  \n",
       "145                    -533.0  \n",
       "146                    -406.0  "
      ]
     },
     "execution_count": 133,
     "metadata": {},
     "output_type": "execute_result"
    }
   ],
   "source": [
    "# step2: identify the start date when missing balance event begins \n",
    "# It is apparent that the balance amount is 0 starting from 2020-07-30\n",
    "# in this case, we have to borrow the balance_amount from the previous date which is 2020-07-29 \n",
    "# and substract by previous total transaction amount to obtain today's beginning-of-day (BoD) balance\n",
    "customerB_agg[customerB_agg.balance_amount==0].head()"
   ]
  },
  {
   "cell_type": "code",
   "execution_count": 134,
   "metadata": {},
   "outputs": [],
   "source": [
    "customerB_agg['balance_amount_BoD'] = customerB_agg['balance_amount']\n",
    "customerB_agg['balance_amount_EoD'] = customerB_agg['balance_amount'] + customerB_agg['total_transaction_amount']"
   ]
  },
  {
   "cell_type": "code",
   "execution_count": 135,
   "metadata": {},
   "outputs": [
    {
     "data": {
      "text/html": [
       "<div>\n",
       "<style scoped>\n",
       "    .dataframe tbody tr th:only-of-type {\n",
       "        vertical-align: middle;\n",
       "    }\n",
       "\n",
       "    .dataframe tbody tr th {\n",
       "        vertical-align: top;\n",
       "    }\n",
       "\n",
       "    .dataframe thead th {\n",
       "        text-align: right;\n",
       "    }\n",
       "</style>\n",
       "<table border=\"1\" class=\"dataframe\">\n",
       "  <thead>\n",
       "    <tr style=\"text-align: right;\">\n",
       "      <th></th>\n",
       "      <th>customer_account_id</th>\n",
       "      <th>account_id</th>\n",
       "      <th>accrual_date</th>\n",
       "      <th>balance_amount</th>\n",
       "      <th>total_transaction_amount</th>\n",
       "      <th>balance_amount_BoD</th>\n",
       "      <th>balance_amount_EoD</th>\n",
       "    </tr>\n",
       "  </thead>\n",
       "  <tbody>\n",
       "    <tr>\n",
       "      <th>0</th>\n",
       "      <td>a_32</td>\n",
       "      <td>a_32_0</td>\n",
       "      <td>2020-03-10</td>\n",
       "      <td>9960127.0</td>\n",
       "      <td>-670.0</td>\n",
       "      <td>9960127.0</td>\n",
       "      <td>9959457.0</td>\n",
       "    </tr>\n",
       "    <tr>\n",
       "      <th>1</th>\n",
       "      <td>a_32</td>\n",
       "      <td>a_32_0</td>\n",
       "      <td>2020-03-11</td>\n",
       "      <td>9959457.0</td>\n",
       "      <td>333.0</td>\n",
       "      <td>9959457.0</td>\n",
       "      <td>9959790.0</td>\n",
       "    </tr>\n",
       "    <tr>\n",
       "      <th>2</th>\n",
       "      <td>a_32</td>\n",
       "      <td>a_32_0</td>\n",
       "      <td>2020-03-12</td>\n",
       "      <td>9959790.0</td>\n",
       "      <td>-1094.0</td>\n",
       "      <td>9959790.0</td>\n",
       "      <td>9958696.0</td>\n",
       "    </tr>\n",
       "    <tr>\n",
       "      <th>3</th>\n",
       "      <td>a_32</td>\n",
       "      <td>a_32_0</td>\n",
       "      <td>2020-03-13</td>\n",
       "      <td>9958696.0</td>\n",
       "      <td>-1147.0</td>\n",
       "      <td>9958696.0</td>\n",
       "      <td>9957549.0</td>\n",
       "    </tr>\n",
       "    <tr>\n",
       "      <th>4</th>\n",
       "      <td>a_32</td>\n",
       "      <td>a_32_0</td>\n",
       "      <td>2020-03-14</td>\n",
       "      <td>9957549.0</td>\n",
       "      <td>-385.0</td>\n",
       "      <td>9957549.0</td>\n",
       "      <td>9957164.0</td>\n",
       "    </tr>\n",
       "  </tbody>\n",
       "</table>\n",
       "</div>"
      ],
      "text/plain": [
       "  customer_account_id account_id accrual_date  balance_amount  \\\n",
       "0                a_32     a_32_0   2020-03-10       9960127.0   \n",
       "1                a_32     a_32_0   2020-03-11       9959457.0   \n",
       "2                a_32     a_32_0   2020-03-12       9959790.0   \n",
       "3                a_32     a_32_0   2020-03-13       9958696.0   \n",
       "4                a_32     a_32_0   2020-03-14       9957549.0   \n",
       "\n",
       "   total_transaction_amount  balance_amount_BoD  balance_amount_EoD  \n",
       "0                    -670.0           9960127.0           9959457.0  \n",
       "1                     333.0           9959457.0           9959790.0  \n",
       "2                   -1094.0           9959790.0           9958696.0  \n",
       "3                   -1147.0           9958696.0           9957549.0  \n",
       "4                    -385.0           9957549.0           9957164.0  "
      ]
     },
     "execution_count": 135,
     "metadata": {},
     "output_type": "execute_result"
    }
   ],
   "source": [
    "customerB_agg.head()"
   ]
  },
  {
   "cell_type": "code",
   "execution_count": 136,
   "metadata": {},
   "outputs": [],
   "source": [
    "# loop over each row, if the account_id is the same as the previous record \n",
    "# then perform the tranformation\n",
    "# 1) if the account_id in last row is not equal to the current row then we can't borrow the balance\n",
    "# 2) calculate today's BoD by summing up yesterday's BoD and daily transaction \n",
    "# 3) update the EoD by adding the daily transactions to the BoD we got in previous step\n",
    "for i in range(1,len(customerB_agg)):\n",
    "    if customerB_agg.loc[i,'account_id'] == customerB_agg.loc[i-1,'account_id']: \n",
    "        customerB_agg.loc[i,'balance_amount_BoD'] = customerB_agg.loc[i-1, 'balance_amount_BoD'] + customerB_agg.loc[i-1, 'total_transaction_amount'] # calculate today's BoD by calculating the sum of \n",
    "        customerB_agg.loc[i,'balance_amount_EoD'] = customerB_agg.loc[i,'balance_amount_BoD'] + customerB_agg.loc[i,'total_transaction_amount'] # update the EoD in each loop\n",
    "        "
   ]
  },
  {
   "cell_type": "code",
   "execution_count": 137,
   "metadata": {},
   "outputs": [],
   "source": [
    "customerB_gl_balance = customerB_agg.loc[customerB_agg.accrual_date == customer_b_balance_date, 'balance_amount_EoD'].sum()"
   ]
  },
  {
   "cell_type": "code",
   "execution_count": 138,
   "metadata": {},
   "outputs": [
    {
     "name": "stdout",
     "output_type": "stream",
     "text": [
      "The end-of-day global balance for Customer B on Customer B Balance Date is 20019370.0\n"
     ]
    }
   ],
   "source": [
    "print('The end-of-day global balance for Customer B on Customer B Balance Date is {}'.format(customerB_gl_balance))"
   ]
  },
  {
   "cell_type": "markdown",
   "metadata": {},
   "source": [
    "(b) Compute the `end-of-day` balances for all `financial_accounts`. Fill in as many missing dates as possible. The final dataset should include daily `end-of-day` balances for all `financial_accounts` as a csv in a similar format as `financial_balances.csv` (include just those columns: [`account_id, accrual_date, amount`]) and named `financial_balances_submission.csv`. ( 10 points )\n"
   ]
  },
  {
   "cell_type": "code",
   "execution_count": 142,
   "metadata": {},
   "outputs": [
    {
     "data": {
      "text/html": [
       "<div>\n",
       "<style scoped>\n",
       "    .dataframe tbody tr th:only-of-type {\n",
       "        vertical-align: middle;\n",
       "    }\n",
       "\n",
       "    .dataframe tbody tr th {\n",
       "        vertical-align: top;\n",
       "    }\n",
       "\n",
       "    .dataframe thead th {\n",
       "        text-align: right;\n",
       "    }\n",
       "</style>\n",
       "<table border=\"1\" class=\"dataframe\">\n",
       "  <thead>\n",
       "    <tr style=\"text-align: right;\">\n",
       "      <th></th>\n",
       "      <th>account_id</th>\n",
       "      <th>accrual_date</th>\n",
       "      <th>transaction_amount</th>\n",
       "      <th>transaction_id</th>\n",
       "      <th>customer_account_id</th>\n",
       "      <th>customer_name</th>\n",
       "      <th>account_name</th>\n",
       "      <th>balance_id</th>\n",
       "      <th>balance_amount</th>\n",
       "    </tr>\n",
       "  </thead>\n",
       "  <tbody>\n",
       "    <tr>\n",
       "      <th>2909</th>\n",
       "      <td>a_1_0</td>\n",
       "      <td>2020-02-28</td>\n",
       "      <td>-691.0</td>\n",
       "      <td>a_1_0_0</td>\n",
       "      <td>a_1</td>\n",
       "      <td>a_1_company</td>\n",
       "      <td>a_1_0_fin_account</td>\n",
       "      <td>NaN</td>\n",
       "      <td>NaN</td>\n",
       "    </tr>\n",
       "    <tr>\n",
       "      <th>2910</th>\n",
       "      <td>a_1_0</td>\n",
       "      <td>2020-02-29</td>\n",
       "      <td>-820.0</td>\n",
       "      <td>a_1_0_1</td>\n",
       "      <td>a_1</td>\n",
       "      <td>a_1_company</td>\n",
       "      <td>a_1_0_fin_account</td>\n",
       "      <td>NaN</td>\n",
       "      <td>NaN</td>\n",
       "    </tr>\n",
       "    <tr>\n",
       "      <th>2911</th>\n",
       "      <td>a_1_0</td>\n",
       "      <td>2020-03-01</td>\n",
       "      <td>-624.0</td>\n",
       "      <td>a_1_0_2</td>\n",
       "      <td>a_1</td>\n",
       "      <td>a_1_company</td>\n",
       "      <td>a_1_0_fin_account</td>\n",
       "      <td>NaN</td>\n",
       "      <td>NaN</td>\n",
       "    </tr>\n",
       "    <tr>\n",
       "      <th>2912</th>\n",
       "      <td>a_1_0</td>\n",
       "      <td>2020-03-02</td>\n",
       "      <td>-972.0</td>\n",
       "      <td>a_1_0_3</td>\n",
       "      <td>a_1</td>\n",
       "      <td>a_1_company</td>\n",
       "      <td>a_1_0_fin_account</td>\n",
       "      <td>NaN</td>\n",
       "      <td>NaN</td>\n",
       "    </tr>\n",
       "    <tr>\n",
       "      <th>2913</th>\n",
       "      <td>a_1_0</td>\n",
       "      <td>2020-03-03</td>\n",
       "      <td>-510.0</td>\n",
       "      <td>a_1_0_4</td>\n",
       "      <td>a_1</td>\n",
       "      <td>a_1_company</td>\n",
       "      <td>a_1_0_fin_account</td>\n",
       "      <td>NaN</td>\n",
       "      <td>NaN</td>\n",
       "    </tr>\n",
       "  </tbody>\n",
       "</table>\n",
       "</div>"
      ],
      "text/plain": [
       "     account_id accrual_date  transaction_amount transaction_id  \\\n",
       "2909      a_1_0   2020-02-28              -691.0        a_1_0_0   \n",
       "2910      a_1_0   2020-02-29              -820.0        a_1_0_1   \n",
       "2911      a_1_0   2020-03-01              -624.0        a_1_0_2   \n",
       "2912      a_1_0   2020-03-02              -972.0        a_1_0_3   \n",
       "2913      a_1_0   2020-03-03              -510.0        a_1_0_4   \n",
       "\n",
       "     customer_account_id customer_name       account_name balance_id  \\\n",
       "2909                 a_1   a_1_company  a_1_0_fin_account        NaN   \n",
       "2910                 a_1   a_1_company  a_1_0_fin_account        NaN   \n",
       "2911                 a_1   a_1_company  a_1_0_fin_account        NaN   \n",
       "2912                 a_1   a_1_company  a_1_0_fin_account        NaN   \n",
       "2913                 a_1   a_1_company  a_1_0_fin_account        NaN   \n",
       "\n",
       "      balance_amount  \n",
       "2909             NaN  \n",
       "2910             NaN  \n",
       "2911             NaN  \n",
       "2912             NaN  \n",
       "2913             NaN  "
      ]
     },
     "execution_count": 142,
     "metadata": {},
     "output_type": "execute_result"
    }
   ],
   "source": [
    "# take a look at records within missing balance\n",
    "df_transactions_balances[df_transactions_balances.balance_amount.isnull()].head()"
   ]
  },
  {
   "cell_type": "code",
   "execution_count": 40,
   "metadata": {},
   "outputs": [],
   "source": [
    "# step1: apply the same logic we concluded in last question without specifying customer_account_id\n",
    "customer_agg_fillna = df_transactions_balances.fillna(0).groupby(by=groupby_cols, as_index=False).agg(total_transaction_amount = ('transaction_amount','sum'))"
   ]
  },
  {
   "cell_type": "code",
   "execution_count": 41,
   "metadata": {},
   "outputs": [],
   "source": [
    "# step2: specify initial BoD and EoD\n",
    "customer_agg_fillna['balance_amount_BoD'] = customer_agg_fillna['balance_amount']\n",
    "customer_agg_fillna['balance_amount_EoD'] = customer_agg_fillna['balance_amount'] + customer_agg_fillna['total_transaction_amount']"
   ]
  },
  {
   "cell_type": "code",
   "execution_count": 42,
   "metadata": {},
   "outputs": [],
   "source": [
    "# step3: loop through each rows and update the current balance_amount_BoD based on previous BoD and transactions\n",
    "for i in range(1,len(customer_agg_fillna)):\n",
    "    if customer_agg_fillna.loc[i,'account_id'] == customer_agg_fillna.loc[i-1,'account_id']: # if the account_id in last index not equal to the current row then we can't borrow the balance\n",
    "        customer_agg_fillna.loc[i,'balance_amount_BoD'] = customer_agg_fillna.loc[i-1, 'balance_amount_BoD'] + customer_agg_fillna.loc[i-1, 'total_transaction_amount']\n",
    "        customer_agg_fillna.loc[i,'balance_amount_EoD'] = customer_agg_fillna.loc[i,'balance_amount_BoD'] + customer_agg_fillna.loc[i,'total_transaction_amount'] # update the EoD in each loop\n",
    "        "
   ]
  },
  {
   "cell_type": "code",
   "execution_count": 43,
   "metadata": {},
   "outputs": [],
   "source": [
    "# step4: write to a csv file with selected columns\n",
    "customer_agg_fillna = customer_agg_fillna.rename(columns={'balance_amount_EoD':'amount'})"
   ]
  },
  {
   "cell_type": "code",
   "execution_count": 44,
   "metadata": {},
   "outputs": [],
   "source": [
    "customer_agg_fillna[['account_id', 'accrual_date', 'amount']].to_csv('financial_balances_submission.csv')"
   ]
  }
 ],
 "metadata": {
  "environment": {
   "name": "common-cpu.m68",
   "type": "gcloud",
   "uri": "gcr.io/deeplearning-platform-release/base-cpu:m68"
  },
  "kernelspec": {
   "display_name": "Python 3",
   "language": "python",
   "name": "python3"
  },
  "language_info": {
   "codemirror_mode": {
    "name": "ipython",
    "version": 3
   },
   "file_extension": ".py",
   "mimetype": "text/x-python",
   "name": "python",
   "nbconvert_exporter": "python",
   "pygments_lexer": "ipython3",
   "version": "3.7.10"
  }
 },
 "nbformat": 4,
 "nbformat_minor": 4
}
